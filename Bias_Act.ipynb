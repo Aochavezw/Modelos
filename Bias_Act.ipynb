{
 "cells": [
  {
   "attachments": {},
   "cell_type": "markdown",
   "metadata": {},
   "source": [
    "# Parte 1: Datos\n",
    "\n",
    "Cargar los datos"
   ]
  },
  {
   "cell_type": "code",
   "execution_count": 151,
   "metadata": {},
   "outputs": [],
   "source": [
    "\n",
    "from sklearn.neighbors import KNeighborsRegressor\n",
    "from sklearn.model_selection import KFold\n",
    "from sklearn.model_selection import train_test_split\n",
    "from sklearn.model_selection import cross_val_score\n",
    "from sklearn.metrics import mean_squared_error\n",
    "from sklearn.linear_model import LinearRegression\n",
    "from numpy import mean\n",
    "from numpy import absolute\n",
    "from numpy import sqrt\n",
    "import pandas as pd\n",
    "import numpy as np\n"
   ]
  },
  {
   "cell_type": "code",
   "execution_count": 56,
   "metadata": {},
   "outputs": [],
   "source": [
    "boston = pd.read_csv('C:/Users/aochavez/OneDrive - deacero.com/Documentos/DT Activities/Modelado/data/Boston.csv').drop('Unnamed: 14',axis=1)\n",
    "\n",
    "X = boston[['CRIM', 'ZN', 'INDUS', 'CHAS', 'NOX', 'RM', 'AGE', 'DIS', 'RAD', 'TAX', 'PTRATIO', 'B', 'LSTAT']]\n",
    "y = boston[['MEDV']]"
   ]
  },
  {
   "cell_type": "code",
   "execution_count": 190,
   "metadata": {},
   "outputs": [],
   "source": [
    "X_train, X_test, y_train, y_test= train_test_split(x, y,\n",
    "                                                   test_size= 0.25,\n",
    "                                                   shuffle= True, #aleatorizar los datos\n",
    "                                                   random_state= 0) "
   ]
  },
  {
   "attachments": {},
   "cell_type": "markdown",
   "metadata": {},
   "source": [
    "# Parte 2\n",
    "\n",
    "Funcion RMSE"
   ]
  },
  {
   "cell_type": "code",
   "execution_count": 138,
   "metadata": {},
   "outputs": [],
   "source": [
    "def RMSE(real,predicted):\n",
    "\n",
    "    if type(real) == type(pd.DataFrame([1])):\n",
    "        y_real = real.values\n",
    "        y_predicted = predicted\n",
    "    elif type(real) == type(pd.DataFrame([1])):\n",
    "        y_predicted = predicted.values\n",
    "        y_real = real\n",
    "    else:\n",
    "        y_real = real\n",
    "        y_predicted = predicted\n",
    "        \n",
    "    square_errors = []\n",
    "\n",
    "    for n,i in enumerate(range(0,len(y_real))):\n",
    "        square_errors.append((y_real[i]-y_predicted[i])**2)\n",
    "\n",
    "    MSE= sum(square_errors)/(n+1)\n",
    "    RMSE = np.sqrt(MSE)\n",
    "\n",
    "    return RMSE\n"
   ]
  },
  {
   "cell_type": "code",
   "execution_count": 139,
   "metadata": {},
   "outputs": [
    {
     "name": "stdout",
     "output_type": "stream",
     "text": [
      "RMSE utilizando mean_squared_error de sklearn.metrics:  1.5465467985159715\n",
      "RMSE utilizando fórmula manual:  1.5465467985159715\n"
     ]
    }
   ],
   "source": [
    "real_values = [3, 9, 27]\n",
    "predicted_values = [2.9,2.9**2,2.9**3]\n",
    "\n",
    "print('RMSE utilizando mean_squared_error de sklearn.metrics: ',mean_squared_error(real_values, predicted_values)**0.5)\n",
    "print('RMSE utilizando fórmula manual: ',RMSE(real_values, predicted_values))\n"
   ]
  },
  {
   "attachments": {},
   "cell_type": "markdown",
   "metadata": {},
   "source": [
    "Modelo con datos de entrenamiento"
   ]
  },
  {
   "cell_type": "code",
   "execution_count": 140,
   "metadata": {},
   "outputs": [],
   "source": [
    "reg = KNeighborsRegressor(3)\n",
    "reg.fit(X_train, y_train)\n",
    "train_predicted = reg.predict(X_train)\n",
    "test_predicted = reg.predict(X_test)\n",
    "\n"
   ]
  },
  {
   "cell_type": "code",
   "execution_count": 148,
   "metadata": {},
   "outputs": [
    {
     "name": "stdout",
     "output_type": "stream",
     "text": [
      "RMSE utilizando mean_squared_error de sklearn.metrics:  4.311224977113059\n",
      "RMSE utilizando fórmula manual:  [4.31122498]\n"
     ]
    }
   ],
   "source": [
    "print('RMSE utilizando mean_squared_error de sklearn.metrics: ',mean_squared_error(y_train, train_predicted)**0.5)\n",
    "print('RMSE utilizando fórmula manual: ',RMSE(real=y_train, predicted=train_predicted))"
   ]
  },
  {
   "cell_type": "code",
   "execution_count": 147,
   "metadata": {},
   "outputs": [
    {
     "name": "stdout",
     "output_type": "stream",
     "text": [
      "RMSE utilizando mean_squared_error de sklearn.metrics:  6.328510389067235\n",
      "RMSE utilizando fórmula manual:  [6.32851039]\n"
     ]
    }
   ],
   "source": [
    "print('RMSE utilizando mean_squared_error de sklearn.metrics: ',mean_squared_error(y_test, test_predicted)**0.5)\n",
    "print('RMSE utilizando fórmula manual: ',RMSE(real=y_test, predicted=test_predicted))"
   ]
  },
  {
   "attachments": {},
   "cell_type": "markdown",
   "metadata": {},
   "source": [
    "# Parte 3"
   ]
  },
  {
   "cell_type": "code",
   "execution_count": null,
   "metadata": {},
   "outputs": [],
   "source": [
    "\n",
    "def cross_val(X_train, y_train, k):\n",
    "     k_splits = KFold(n_splits=k, random_state=1, shuffle=True) \n",
    "     reg = KNeighborsRegressor(3)\n",
    "     reg.fit(X_train, y_train)\n",
    "     scores = cross_val_score(reg, X=X_train, y=y_train, cv=k_splits, n_jobs=1)\n",
    "     print('RMSE', sqrt(mean(absolute(scores))))"
   ]
  },
  {
   "cell_type": "code",
   "execution_count": null,
   "metadata": {},
   "outputs": [],
   "source": [
    "k_splits = KFold(n_splits=5, random_state=1, shuffle=True) \n",
    "k_splits"
   ]
  },
  {
   "cell_type": "code",
   "execution_count": null,
   "metadata": {},
   "outputs": [],
   "source": [
    "for training_values, test_values in k_splits.split(X): # X es la muestra de datos que quiero segmentar\n",
    "    print(\"Entrenamiento: \", X.iloc[training_values], \"Prueba: \", X.iloc[test_values])"
   ]
  },
  {
   "cell_type": "code",
   "execution_count": 187,
   "metadata": {},
   "outputs": [
    {
     "data": {
      "text/plain": [
       "6.562771862777953"
      ]
     },
     "execution_count": 187,
     "metadata": {},
     "output_type": "execute_result"
    }
   ],
   "source": [
    "def cross_val(X_train, y_train, k):\n",
    "    regr= KNeighborsRegressor(3)\n",
    "    rmse_mean=[]\n",
    "    for training_values, test_values in k_splits.split(X): # X es la muestra de datos que quiero \n",
    "        #print(\"Entrenamiento: \", training_values, \"Prueba: \", test_values)\n",
    "        X_training, X_test = X.iloc[training_values], X.iloc[test_values]\n",
    "        y_training, y_test = y.iloc[training_values], y.iloc[test_values]\n",
    "\n",
    "        regr.fit(X_training,y_training)\n",
    "        test_predicted =regr.predict(X_test)\n",
    "        rmse_mean.append(mean_squared_error(y_test, test_predicted)**0.5)\n",
    "\n",
    "    return mean(rmse_mean)\n",
    "    \n",
    "cross_val(X_train=X_train, y_train=y_train, k=5)\n",
    "    "
   ]
  },
  {
   "attachments": {},
   "cell_type": "markdown",
   "metadata": {},
   "source": [
    "# Parte 4"
   ]
  },
  {
   "cell_type": "code",
   "execution_count": 198,
   "metadata": {},
   "outputs": [
    {
     "data": {
      "image/png": "[encoded data removed]",
      "text/plain": [
       "<Figure size 432x288 with 1 Axes>"
      ]
     },
     "metadata": {
      "needs_background": "light"
     },
     "output_type": "display_data"
    }
   ],
   "source": [
    "X_train, X_test, y_train, y_test= train_test_split(x, y,\n",
    "                                                   test_size= 0.25,\n",
    "                                                   shuffle= True, #aleatorizar los datos\n",
    "                                                   random_state= 0) \n",
    "\n",
    "\n",
    "rmse_resultados_train = []\n",
    "rmse_resultados_test = []\n",
    "\n",
    "for num in range(1,101):\n",
    "\n",
    "    reg = KNeighborsRegressor(num)\n",
    "    reg.fit(X_train, y_train)\n",
    "\n",
    "    train_predicted = reg.predict(X_train)\n",
    "    test_predicted = reg.predict(X_test)\n",
    "\n",
    "    rmse = mean_squared_error(y_train, train_predicted)\n",
    "    rmse_resultados_train.append(rmse)\n",
    "\n",
    "    rmse = mean_squared_error(y_test, test_predicted)\n",
    "    rmse_resultados_test.append(rmse)\n",
    "\n",
    "import matplotlib.pyplot as plt\n",
    "plt.plot(rmse_resultados_train,'b+', rmse_resultados_test, 'mo')\n",
    "plt.legend([\"Train\", \"Test\"], loc =\"lower right\")\n",
    "plt.ylabel('R Squared')\n",
    "plt.xlabel('Neighbors (K)')\n",
    "plt.show()"
   ]
  }
 ],
 "metadata": {
  "kernelspec": {
   "display_name": "base",
   "language": "python",
   "name": "python3"
  },
  "language_info": {
   "codemirror_mode": {
    "name": "ipython",
    "version": 3
   },
   "file_extension": ".py",
   "mimetype": "text/x-python",
   "name": "python",
   "nbconvert_exporter": "python",
   "pygments_lexer": "ipython3",
   "version": "3.9.12 (main, Apr  4 2022, 05:22:27) [MSC v.1916 64 bit (AMD64)]"
  },
  "orig_nbformat": 4,
  "vscode": {
   "interpreter": {
    "hash": "25a0bc904ed641a24e0084eb7eb2dfbdddac8ee0bb634c9a8a1445208883b478"
   }
  }
 },
 "nbformat": 4,
 "nbformat_minor": 2
}
